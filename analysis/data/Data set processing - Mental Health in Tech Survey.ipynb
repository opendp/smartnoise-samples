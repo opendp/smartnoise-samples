{
 "cells": [
  {
   "cell_type": "markdown",
   "metadata": {},
   "source": [
    "### Download OSMI data\n",
    "\n",
    "#### Mental Health in Tech Survey data set pre-processing"
   ]
  },
  {
   "cell_type": "markdown",
   "metadata": {},
   "source": [
    "Download dataset from the [Mental Health in Tech Survey](https://www.kaggle.com/osmi/mental-health-in-tech-survey)\n"
   ]
  },
  {
   "cell_type": "markdown",
   "metadata": {},
   "source": [
    "### About:\n",
    "\n",
    "Mental health in tech survey data set is an open data set licensed under CC BY-SA 4.0. \n",
    "\n",
    "The data consists in 27 questions, aswered by 1,259 volunteers.\n",
    "\n",
    "This notebook preprocess the data for the [differential privacy analysis tutorial - Mental Health in Tech Survey](../tutorial_mental_health_in_tech_survey.ipynb)"
   ]
  },
  {
   "cell_type": "code",
   "execution_count": 1,
   "metadata": {},
   "outputs": [],
   "source": [
    "import os\n",
    "import pandas as pd"
   ]
  },
  {
   "cell_type": "code",
   "execution_count": null,
   "metadata": {},
   "outputs": [],
   "source": [
    "gender_dict = {'cis male': '1',\n",
    " 'male leaning androgynous': '0',\n",
    " 'non-binary': '0',\n",
    " 'Male ': '1',\n",
    " 'fluid': '0',\n",
    " 'Cis Man': '1',\n",
    " 'Make': '1',\n",
    " 'Nah': '0',\n",
    " 'Cis Female': '2',\n",
    " 'something kinda male?': '0',\n",
    " 'maile': '1',\n",
    " 'Mal': '1',\n",
    " 'Enby': '0',\n",
    " 'Trans-female': '0',\n",
    " 'Female ': '2',\n",
    " 'Androgyne': '0',\n",
    " 'Genderqueer': '0',\n",
    " 'Male-ish': '0',\n",
    " 'cis-female/femme': '2',\n",
    " 'Neuter': '0',\n",
    " 'Agender': '0',\n",
    " 'msle': '1',\n",
    " 'Female': '2',\n",
    " 'woman': '2',\n",
    " 'Male': '1',\n",
    " 'Malr': '1',\n",
    " 'M': '1',\n",
    " 'Femake': '2',\n",
    " 'All': '0',\n",
    " 'Woman': '2',\n",
    " 'Man': '1',\n",
    " 'queer': '0',\n",
    " 'Mail': '1',\n",
    " 'Cis Male': '1',\n",
    " 'Female (cis)': '2',\n",
    " 'Trans woman': '2',\n",
    " 'female': '2',\n",
    " 'm':'1',\n",
    " 'p': '0',\n",
    " 'Male (CIS)': '1',\n",
    " 'f': '2',\n",
    " 'ostensibly male, unsure what that really means': '0',\n",
    " 'F': '2',\n",
    " 'femail': '2',\n",
    " 'Female (trans)': '0',\n",
    " 'A little about you': '0',\n",
    " 'queer/she/they': '0',\n",
    " 'male': '1',\n",
    " 'Guy (-ish) ^_^': '0'}\n",
    "\n",
    "\n",
    "    \n",
    "binary_dict = {'Yes':'1', 'No':'0'} "
   ]
  },
  {
   "cell_type": "code",
   "execution_count": null,
   "metadata": {},
   "outputs": [],
   "source": [
    "def map_country(x):\n",
    "    if x == 'United States':\n",
    "        return '1'\n",
    "    if x == 'United Kingdom':\n",
    "        return '2'\n",
    "    if x == 'Canada':\n",
    "        return '3'\n",
    "    else:\n",
    "        return '0'"
   ]
  },
  {
   "cell_type": "code",
   "execution_count": null,
   "metadata": {
    "scrolled": true
   },
   "outputs": [],
   "source": [
    "##Save the downloaded csv file, and load to the notebook\n",
    "##NOTE: The filepath variable must be updated to reflect\n",
    "##      the actual location of your survey file\n",
    "filepath = os.environ['HOME'] + '/Downloads/survey.csv'\n",
    "survey = pd.read_csv(filepath)\n",
    "\n",
    "#Exlude all participants under 21 and 100 years or older\n",
    "survey = survey[(survey.Age > 21)&(survey.Age < 100)]\n",
    "\n",
    "#create age buckets\n",
    "survey.loc[(survey.Age <  30), \"age\"] = '0'\n",
    "survey.loc[(survey.Age >=  30)& (survey.Age <  40), \"age\"] = '1'\n",
    "survey.loc[(survey.Age >=  40)& (survey.Age <  50), \"age\"] = '2'\n",
    "survey.loc[(survey.Age >=  50)& (survey.Age <  60), \"age\"] = '3'\n",
    "survey.loc[(survey.Age >=  60), \"age\"] = '4'\n",
    "\n",
    "#create mapings for the other variables\n",
    "survey['gender'] = survey.Gender.map(gender_dict)\n",
    "survey['country'] = survey.Country.apply(lambda x: map_country(x))\n",
    "survey['treatment'] = survey.treatment.map(binary_dict)\n",
    "survey['family_history'] = survey.family_history.map(binary_dict)\n",
    "survey['remote_work'] = survey.remote_work.map(binary_dict)"
   ]
  },
  {
   "cell_type": "code",
   "execution_count": null,
   "metadata": {},
   "outputs": [],
   "source": [
    "#save the preprocessed data\n",
    "survey.to_csv('survey.csv', index=False)"
   ]
  },
  {
   "cell_type": "code",
   "execution_count": null,
   "metadata": {},
   "outputs": [],
   "source": []
  }
 ],
 "metadata": {
  "kernelspec": {
   "display_name": "Python 3",
   "language": "python",
   "name": "python3"
  },
  "language_info": {
   "codemirror_mode": {
    "name": "ipython",
    "version": 3
   },
   "file_extension": ".py",
   "mimetype": "text/x-python",
   "name": "python",
   "nbconvert_exporter": "python",
   "pygments_lexer": "ipython3",
   "version": "3.8.6"
  }
 },
 "nbformat": 4,
 "nbformat_minor": 4
}
