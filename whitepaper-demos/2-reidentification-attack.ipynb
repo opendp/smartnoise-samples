{
 "cells": [
  {
   "cell_type": "markdown",
   "metadata": {},
   "source": [
    "Microsoft Differential Privacy Whitepaper Collateral Notebooks Part 2\n",
    "# Protecting against Reidentification Attacks with Differential Privacy\n",
    "<img src=\"images/red-attack.jpg\" width=800 />\n",
    "\n",
    "In this demo illustrates how differential privacy can be used to protect sensitive personal information against re-identification attacks. The identities of individuals might be revealed if an attacker is able to map anonymized records about individuals from a published dataset with information about these people from various sources. \n",
    "In this demo, the published anonymized dataset contains patient records. The attacker tries to identify individuals by leveraging basic demographic information like age and zip codes.\n",
    "We show that successful reidentification attacks are possible even when the sensitive data is published in an anonymized format. Then, we perform a second attack after protecting the sensitive data using a dataset synthesizer from the SmartNoise system.\n",
    "\n",
    "\n",
    "This demo is based on the following steps:\n",
    "1. Import of anonymized medical data set and the attacker's data collection\n",
    "2. Reidentification Attack I: Revealing identities from the anonymized data set \n",
    "3. Protecting the medical dataset with differential privacy using Multiple Weights Exponential Mechanism (MWEM)\n",
    "4. Validating the utility of the synthesized data set for statistical analyses\n",
    "5. Reidentification Attack II: Trying to reveal identities based on the differentially private version of the medical data set"
   ]
  },
  {
   "cell_type": "code",
   "execution_count": 1,
   "metadata": {
    "gather": {
     "logged": 1607612123889
    }
   },
   "outputs": [],
   "source": [
    "# Install required libraries, uncomment if needed\n",
    "# %pip install git+https://github.com/opendifferentialprivacy/smartnoise-sdk#subdirectory=sdk\n",
    "# %pip install faker zipcodes tqdm opendp-smartnoise"
   ]
  },
  {
   "cell_type": "code",
   "execution_count": 2,
   "metadata": {
    "gather": {
     "logged": 1607612125078
    }
   },
   "outputs": [],
   "source": [
    "import warnings\n",
    "warnings.filterwarnings(\"ignore\")\n",
    "\n",
    "import logging\n",
    "logger = logging.getLogger()\n",
    "logger.setLevel(logging.INFO)\n",
    "import pandas as pd\n",
    "import numpy as np\n",
    "import random\n",
    "import string\n",
    "import uuid\n",
    "import time\n",
    "import logging\n",
    "from datetime import datetime\n",
    "import matplotlib.pyplot as plt\n",
    "from tqdm import tqdm\n",
    "import reident_tools as reident\n",
    "from opendp.smartnoise.synthesizers.mwem import MWEMSynthesizer\n",
    "\n",
    "%config InlineBackend.figure_format = 'retina'\n",
    "%load_ext autoreload\n",
    "%autoreload 2"
   ]
  },
  {
   "cell_type": "markdown",
   "metadata": {},
   "source": [
    "## Import data sets\n",
    "Below, we are going to import three data sets:\n",
    "1. Public medical data set, containing k-anonymized demographic and sensitive medical information\n",
    "2. Attacker's data collection with basic demographic information\n",
    "3. Public medical data set preprocessed for the MWEM synthesizer"
   ]
  },
  {
   "cell_type": "code",
   "execution_count": 3,
   "metadata": {
    "gather": {
     "logged": 1607612125572
    }
   },
   "outputs": [
    {
     "name": "stdout",
     "output_type": "stream",
     "text": [
      "Anonymized dataset including sensitive medical information:\n"
     ]
    },
    {
     "data": {
      "text/html": [
       "<div>\n",
       "<style scoped>\n",
       "    .dataframe tbody tr th:only-of-type {\n",
       "        vertical-align: middle;\n",
       "    }\n",
       "\n",
       "    .dataframe tbody tr th {\n",
       "        vertical-align: top;\n",
       "    }\n",
       "\n",
       "    .dataframe thead th {\n",
       "        text-align: right;\n",
       "    }\n",
       "</style>\n",
       "<table border=\"1\" class=\"dataframe\">\n",
       "  <thead>\n",
       "    <tr style=\"text-align: right;\">\n",
       "      <th></th>\n",
       "      <th>Gender</th>\n",
       "      <th>Age</th>\n",
       "      <th>Zip</th>\n",
       "      <th>Diagnosis</th>\n",
       "      <th>Treatment</th>\n",
       "      <th>Outcome</th>\n",
       "    </tr>\n",
       "  </thead>\n",
       "  <tbody>\n",
       "    <tr>\n",
       "      <th>22290</th>\n",
       "      <td>F</td>\n",
       "      <td>80-89</td>\n",
       "      <td>329**</td>\n",
       "      <td>Arthritis</td>\n",
       "      <td>31</td>\n",
       "      <td>recovered</td>\n",
       "    </tr>\n",
       "    <tr>\n",
       "      <th>19225</th>\n",
       "      <td>M</td>\n",
       "      <td>60-69</td>\n",
       "      <td>797**</td>\n",
       "      <td>Stroke</td>\n",
       "      <td>31</td>\n",
       "      <td>unchanged</td>\n",
       "    </tr>\n",
       "    <tr>\n",
       "      <th>29342</th>\n",
       "      <td>F</td>\n",
       "      <td>30-39</td>\n",
       "      <td>952**</td>\n",
       "      <td>Arthritis</td>\n",
       "      <td>41</td>\n",
       "      <td>intensive care</td>\n",
       "    </tr>\n",
       "    <tr>\n",
       "      <th>1530</th>\n",
       "      <td>M</td>\n",
       "      <td>40-49</td>\n",
       "      <td>196**</td>\n",
       "      <td>Heart Disease</td>\n",
       "      <td>40</td>\n",
       "      <td>unchanged</td>\n",
       "    </tr>\n",
       "    <tr>\n",
       "      <th>21141</th>\n",
       "      <td>F</td>\n",
       "      <td>60-69</td>\n",
       "      <td>972**</td>\n",
       "      <td>Depression</td>\n",
       "      <td>50</td>\n",
       "      <td>recovered</td>\n",
       "    </tr>\n",
       "    <tr>\n",
       "      <th>1823</th>\n",
       "      <td>F</td>\n",
       "      <td>50-59</td>\n",
       "      <td>664**</td>\n",
       "      <td>Osteoporosis</td>\n",
       "      <td>33</td>\n",
       "      <td>intensive care</td>\n",
       "    </tr>\n",
       "    <tr>\n",
       "      <th>21291</th>\n",
       "      <td>M</td>\n",
       "      <td>10-19</td>\n",
       "      <td>279**</td>\n",
       "      <td>High Blood Pressure</td>\n",
       "      <td>50</td>\n",
       "      <td>recovered</td>\n",
       "    </tr>\n",
       "    <tr>\n",
       "      <th>14541</th>\n",
       "      <td>M</td>\n",
       "      <td>40-49</td>\n",
       "      <td>490**</td>\n",
       "      <td>Osteoporosis</td>\n",
       "      <td>42</td>\n",
       "      <td>recovered</td>\n",
       "    </tr>\n",
       "  </tbody>\n",
       "</table>\n",
       "</div>"
      ],
      "text/plain": [
       "      Gender    Age    Zip            Diagnosis  Treatment         Outcome\n",
       "22290      F  80-89  329**            Arthritis         31       recovered\n",
       "19225      M  60-69  797**               Stroke         31       unchanged\n",
       "29342      F  30-39  952**            Arthritis         41  intensive care\n",
       "1530       M  40-49  196**        Heart Disease         40       unchanged\n",
       "21141      F  60-69  972**           Depression         50       recovered\n",
       "1823       F  50-59  664**         Osteoporosis         33  intensive care\n",
       "21291      M  10-19  279**  High Blood Pressure         50       recovered\n",
       "14541      M  40-49  490**         Osteoporosis         42       recovered"
      ]
     },
     "metadata": {},
     "output_type": "display_data"
    },
    {
     "name": "stdout",
     "output_type": "stream",
     "text": [
      "Attacker`s data collection with basic demographic information:\n"
     ]
    },
    {
     "data": {
      "text/html": [
       "<div>\n",
       "<style scoped>\n",
       "    .dataframe tbody tr th:only-of-type {\n",
       "        vertical-align: middle;\n",
       "    }\n",
       "\n",
       "    .dataframe tbody tr th {\n",
       "        vertical-align: top;\n",
       "    }\n",
       "\n",
       "    .dataframe thead th {\n",
       "        text-align: right;\n",
       "    }\n",
       "</style>\n",
       "<table border=\"1\" class=\"dataframe\">\n",
       "  <thead>\n",
       "    <tr style=\"text-align: right;\">\n",
       "      <th></th>\n",
       "      <th>Name</th>\n",
       "      <th>Gender</th>\n",
       "      <th>Age</th>\n",
       "      <th>Zip</th>\n",
       "    </tr>\n",
       "  </thead>\n",
       "  <tbody>\n",
       "    <tr>\n",
       "      <th>17309</th>\n",
       "      <td>Joel Lewis</td>\n",
       "      <td>M</td>\n",
       "      <td>12</td>\n",
       "      <td>65399</td>\n",
       "    </tr>\n",
       "    <tr>\n",
       "      <th>2483</th>\n",
       "      <td>Chad Gonzales</td>\n",
       "      <td>M</td>\n",
       "      <td>16</td>\n",
       "      <td>16730</td>\n",
       "    </tr>\n",
       "    <tr>\n",
       "      <th>15184</th>\n",
       "      <td>Barry Cannon</td>\n",
       "      <td>M</td>\n",
       "      <td>20</td>\n",
       "      <td>84551</td>\n",
       "    </tr>\n",
       "    <tr>\n",
       "      <th>29598</th>\n",
       "      <td>Daniel Baker</td>\n",
       "      <td>M</td>\n",
       "      <td>40</td>\n",
       "      <td>30396</td>\n",
       "    </tr>\n",
       "    <tr>\n",
       "      <th>13358</th>\n",
       "      <td>Melissa Johnson</td>\n",
       "      <td>F</td>\n",
       "      <td>16</td>\n",
       "      <td>36679</td>\n",
       "    </tr>\n",
       "    <tr>\n",
       "      <th>29264</th>\n",
       "      <td>Christina Phillips</td>\n",
       "      <td>F</td>\n",
       "      <td>12</td>\n",
       "      <td>61586</td>\n",
       "    </tr>\n",
       "    <tr>\n",
       "      <th>24430</th>\n",
       "      <td>Carol Fisher</td>\n",
       "      <td>F</td>\n",
       "      <td>12</td>\n",
       "      <td>1956</td>\n",
       "    </tr>\n",
       "    <tr>\n",
       "      <th>9520</th>\n",
       "      <td>Donna Jimenez</td>\n",
       "      <td>F</td>\n",
       "      <td>79</td>\n",
       "      <td>10376</td>\n",
       "    </tr>\n",
       "  </tbody>\n",
       "</table>\n",
       "</div>"
      ],
      "text/plain": [
       "                     Name Gender  Age    Zip\n",
       "17309          Joel Lewis      M   12  65399\n",
       "2483        Chad Gonzales      M   16  16730\n",
       "15184        Barry Cannon      M   20  84551\n",
       "29598        Daniel Baker      M   40  30396\n",
       "13358     Melissa Johnson      F   16  36679\n",
       "29264  Christina Phillips      F   12  61586\n",
       "24430        Carol Fisher      F   12   1956\n",
       "9520        Donna Jimenez      F   79  10376"
      ]
     },
     "metadata": {},
     "output_type": "display_data"
    }
   ],
   "source": [
    "# Read files\n",
    "df_medical = pd.read_csv('data/data_medical.csv', sep=\",\", encoding=\"utf-8\").infer_objects()\n",
    "df_medical['Zip'] = df_medical['Zip'].astype(str)\n",
    "print('Anonymized dataset including sensitive medical information:')\n",
    "display(df_medical.iloc[:,1:].sample(8))\n",
    "df_demographic = pd.read_csv('data/data_demographic.csv', sep=\",\", encoding=\"utf-8\").infer_objects()\n",
    "print('Attacker`s data collection with basic demographic information:')\n",
    "df_demographic['Zip'] = df_demographic['Zip'].astype(str)\n",
    "display(df_demographic.iloc[:,1:].sample(8))\n",
    "df_medical_synth = pd.read_csv('data/data_medical_synthesizer.csv', sep=\",\", encoding=\"utf-8\").infer_objects()\n",
    "df_medical_synth['Zip'] = df_medical_synth['Zip'].astype(str)"
   ]
  },
  {
   "cell_type": "markdown",
   "metadata": {},
   "source": [
    "Above data sets also include a unique id for each record which is used to be able to count the number of identified records after the attack. This information is not used for performing the attack. "
   ]
  },
  {
   "cell_type": "markdown",
   "metadata": {},
   "source": [
    "## Reidentification Attack I - Revealing identities from the anonymized data set\n",
    "Below, we perform the first reidentification attack usind the `try_reidentification` function. As input, we use the data sets generated above (published medical and demographic data)."
   ]
  },
  {
   "cell_type": "markdown",
   "metadata": {},
   "source": [
    "### Perform the attack\n",
    "Now, we perform the reidentification attack with the demographic and the medical data set, using a combinatorial approach."
   ]
  },
  {
   "cell_type": "code",
   "execution_count": null,
   "metadata": {},
   "outputs": [
    {
     "name": "stderr",
     "output_type": "stream",
     "text": [
      "INFO:root:Performing reidentification with anonymized data: 30000. Attacker collection: 30000\n",
      " 95%|█████████▌| 28620/30000 [11:18<00:38, 35.43it/s]"
     ]
    }
   ],
   "source": [
    "%%time\n",
    "reident_attack = reident.try_reidentification(df_demographic, df_medical, logger)"
   ]
  },
  {
   "cell_type": "markdown",
   "metadata": {},
   "source": [
    "### Results of the attack\n",
    "Below, we show the amount of potential and actual matches and provide a glance at the data."
   ]
  },
  {
   "cell_type": "code",
   "execution_count": 5,
   "metadata": {
    "gather": {
     "logged": 1607612734993
    }
   },
   "outputs": [
    {
     "name": "stdout",
     "output_type": "stream",
     "text": [
      "Found: 9124 actual (validated) matches!\n"
     ]
    }
   ],
   "source": [
    "print(f'Found: {len(reident_attack[reident_attack[\"ID_Match\"]==True])} actual (validated) matches!')"
   ]
  },
  {
   "cell_type": "code",
   "execution_count": 6,
   "metadata": {
    "gather": {
     "logged": 1607612735291
    }
   },
   "outputs": [],
   "source": [
    "# Write to file, if wanted\n",
    "# reident_attack.to_csv('data/results_reident-attack-raw.csv', sep=\",\", encoding=\"utf-8\", index=False)\n",
    "# Or read files, if needed\n",
    "# reident_attack = pd.read_csv('data/results_reident-attack-raw.csv', sep=\",\", encoding=\"utf-8\")"
   ]
  },
  {
   "cell_type": "code",
   "execution_count": 7,
   "metadata": {
    "gather": {
     "logged": 1607612735442
    }
   },
   "outputs": [
    {
     "name": "stdout",
     "output_type": "stream",
     "text": [
      "Sample of re-identified patients:\n"
     ]
    },
    {
     "data": {
      "text/html": [
       "<div>\n",
       "<style scoped>\n",
       "    .dataframe tbody tr th:only-of-type {\n",
       "        vertical-align: middle;\n",
       "    }\n",
       "\n",
       "    .dataframe tbody tr th {\n",
       "        vertical-align: top;\n",
       "    }\n",
       "\n",
       "    .dataframe thead th {\n",
       "        text-align: right;\n",
       "    }\n",
       "</style>\n",
       "<table border=\"1\" class=\"dataframe\">\n",
       "  <thead>\n",
       "    <tr style=\"text-align: right;\">\n",
       "      <th></th>\n",
       "      <th>Name</th>\n",
       "      <th>Gender</th>\n",
       "      <th>Age</th>\n",
       "      <th>Zip</th>\n",
       "      <th>Diagnosis</th>\n",
       "      <th>Treatment</th>\n",
       "      <th>Outcome</th>\n",
       "      <th>ID_Match</th>\n",
       "    </tr>\n",
       "  </thead>\n",
       "  <tbody>\n",
       "    <tr>\n",
       "      <th>3125</th>\n",
       "      <td>Troy Gonzalez</td>\n",
       "      <td>M</td>\n",
       "      <td>58</td>\n",
       "      <td>69973</td>\n",
       "      <td>High Blood Pressure</td>\n",
       "      <td>36</td>\n",
       "      <td>intensive care</td>\n",
       "      <td>True</td>\n",
       "    </tr>\n",
       "    <tr>\n",
       "      <th>5959</th>\n",
       "      <td>Olivia Walker</td>\n",
       "      <td>F</td>\n",
       "      <td>16</td>\n",
       "      <td>76680</td>\n",
       "      <td>Alzheimer</td>\n",
       "      <td>38</td>\n",
       "      <td>intensive care</td>\n",
       "      <td>True</td>\n",
       "    </tr>\n",
       "    <tr>\n",
       "      <th>24635</th>\n",
       "      <td>Amber Jones</td>\n",
       "      <td>F</td>\n",
       "      <td>56</td>\n",
       "      <td>39631</td>\n",
       "      <td>COPD</td>\n",
       "      <td>21</td>\n",
       "      <td>intensive care</td>\n",
       "      <td>True</td>\n",
       "    </tr>\n",
       "    <tr>\n",
       "      <th>8043</th>\n",
       "      <td>Mrs. Paula Simmons DVM</td>\n",
       "      <td>F</td>\n",
       "      <td>78</td>\n",
       "      <td>14839</td>\n",
       "      <td>Cancer</td>\n",
       "      <td>49</td>\n",
       "      <td>intensive care</td>\n",
       "      <td>True</td>\n",
       "    </tr>\n",
       "    <tr>\n",
       "      <th>15418</th>\n",
       "      <td>Oscar Norman</td>\n",
       "      <td>M</td>\n",
       "      <td>47</td>\n",
       "      <td>80099</td>\n",
       "      <td>Depression</td>\n",
       "      <td>30</td>\n",
       "      <td>recovered</td>\n",
       "      <td>True</td>\n",
       "    </tr>\n",
       "    <tr>\n",
       "      <th>9360</th>\n",
       "      <td>Sheila Berg</td>\n",
       "      <td>F</td>\n",
       "      <td>89</td>\n",
       "      <td>43955</td>\n",
       "      <td>High Blood Pressure</td>\n",
       "      <td>23</td>\n",
       "      <td>recovered</td>\n",
       "      <td>True</td>\n",
       "    </tr>\n",
       "    <tr>\n",
       "      <th>15075</th>\n",
       "      <td>Kristine Lewis</td>\n",
       "      <td>F</td>\n",
       "      <td>25</td>\n",
       "      <td>44018</td>\n",
       "      <td>Alzheimer</td>\n",
       "      <td>36</td>\n",
       "      <td>unchanged</td>\n",
       "      <td>True</td>\n",
       "    </tr>\n",
       "    <tr>\n",
       "      <th>1277</th>\n",
       "      <td>Kimberly Bolton</td>\n",
       "      <td>F</td>\n",
       "      <td>12</td>\n",
       "      <td>88284</td>\n",
       "      <td>Alzheimer</td>\n",
       "      <td>25</td>\n",
       "      <td>unchanged</td>\n",
       "      <td>True</td>\n",
       "    </tr>\n",
       "    <tr>\n",
       "      <th>23105</th>\n",
       "      <td>Erin Whitaker</td>\n",
       "      <td>F</td>\n",
       "      <td>78</td>\n",
       "      <td>40613</td>\n",
       "      <td>Alzheimer</td>\n",
       "      <td>36</td>\n",
       "      <td>recovered</td>\n",
       "      <td>True</td>\n",
       "    </tr>\n",
       "    <tr>\n",
       "      <th>10656</th>\n",
       "      <td>Karen Compton</td>\n",
       "      <td>F</td>\n",
       "      <td>11</td>\n",
       "      <td>25730</td>\n",
       "      <td>Arthritis</td>\n",
       "      <td>30</td>\n",
       "      <td>recovered</td>\n",
       "      <td>True</td>\n",
       "    </tr>\n",
       "  </tbody>\n",
       "</table>\n",
       "</div>"
      ],
      "text/plain": [
       "                         Name Gender Age    Zip            Diagnosis  \\\n",
       "3125            Troy Gonzalez      M  58  69973  High Blood Pressure   \n",
       "5959            Olivia Walker      F  16  76680            Alzheimer   \n",
       "24635             Amber Jones      F  56  39631                 COPD   \n",
       "8043   Mrs. Paula Simmons DVM      F  78  14839               Cancer   \n",
       "15418            Oscar Norman      M  47  80099           Depression   \n",
       "9360              Sheila Berg      F  89  43955  High Blood Pressure   \n",
       "15075          Kristine Lewis      F  25  44018            Alzheimer   \n",
       "1277          Kimberly Bolton      F  12  88284            Alzheimer   \n",
       "23105           Erin Whitaker      F  78  40613            Alzheimer   \n",
       "10656           Karen Compton      F  11  25730            Arthritis   \n",
       "\n",
       "      Treatment         Outcome  ID_Match  \n",
       "3125         36  intensive care      True  \n",
       "5959         38  intensive care      True  \n",
       "24635        21  intensive care      True  \n",
       "8043         49  intensive care      True  \n",
       "15418        30       recovered      True  \n",
       "9360         23       recovered      True  \n",
       "15075        36       unchanged      True  \n",
       "1277         25       unchanged      True  \n",
       "23105        36       recovered      True  \n",
       "10656        30       recovered      True  "
      ]
     },
     "execution_count": 7,
     "metadata": {},
     "output_type": "execute_result"
    }
   ],
   "source": [
    "# Get sample from the data set\n",
    "print(f'Sample of re-identified patients:')\n",
    "reident_attack[reident_attack[\"ID_Match\"]==True][['Name', 'Gender', 'Age', 'Zip', 'Diagnosis', 'Treatment', 'Outcome', 'ID_Match']].sample(10)"
   ]
  },
  {
   "cell_type": "markdown",
   "metadata": {},
   "source": [
    "## Protecting the medical dataset with differential privacy\n",
    "In the next step, we are going to synthesize the data set to increase the level of protection. We will use the Multiple Weights Exponential Mechanism (MWEM) synthesizer for this purpose and encode the demographic data (gender, age, zip) and the diagnosis. The other variables (treatment, outcome) are not part of the analysis for now."
   ]
  },
  {
   "cell_type": "code",
   "execution_count": 8,
   "metadata": {
    "gather": {
     "logged": 1607612125918
    }
   },
   "outputs": [],
   "source": [
    "# Prepare data set for reidentification, using the medical data set and the full zip copied from the demographic set\n",
    "df_reident_synth = df_medical[['Gender', 'Age', 'Zip', 'Diagnosis', 'Treatment', 'Outcome']].copy()\n",
    "df_reident_synth['Zip'] = df_demographic['Zip'].copy()\n",
    "df_reident_synth['Age'] = df_demographic['Age'].copy()\n",
    "# Write to file, if wanted\n",
    "# df_reident_synth.to_csv('data/data_reidentification_synthesizer.csv', sep=\",\", encoding=\"utf-8\", index=False)"
   ]
  },
  {
   "cell_type": "markdown",
   "metadata": {},
   "source": [
    "### Encoding of data\n",
    "For this purpose, we encode the input data using the `do_encode`-function to make it compatible with the MWEM synthesizer."
   ]
  },
  {
   "cell_type": "code",
   "execution_count": 9,
   "metadata": {
    "gather": {
     "logged": 1607612943336
    }
   },
   "outputs": [
    {
     "data": {
      "text/html": [
       "<div>\n",
       "<style scoped>\n",
       "    .dataframe tbody tr th:only-of-type {\n",
       "        vertical-align: middle;\n",
       "    }\n",
       "\n",
       "    .dataframe tbody tr th {\n",
       "        vertical-align: top;\n",
       "    }\n",
       "\n",
       "    .dataframe thead th {\n",
       "        text-align: right;\n",
       "    }\n",
       "</style>\n",
       "<table border=\"1\" class=\"dataframe\">\n",
       "  <thead>\n",
       "    <tr style=\"text-align: right;\">\n",
       "      <th></th>\n",
       "      <th>Gender</th>\n",
       "      <th>Age</th>\n",
       "      <th>Zip</th>\n",
       "      <th>Diagnosis</th>\n",
       "      <th>Treatment</th>\n",
       "      <th>Outcome</th>\n",
       "    </tr>\n",
       "  </thead>\n",
       "  <tbody>\n",
       "    <tr>\n",
       "      <th>0</th>\n",
       "      <td>F</td>\n",
       "      <td>10</td>\n",
       "      <td>65418</td>\n",
       "      <td>High Blood Pressure</td>\n",
       "      <td>25</td>\n",
       "      <td>intensive care</td>\n",
       "    </tr>\n",
       "    <tr>\n",
       "      <th>1</th>\n",
       "      <td>F</td>\n",
       "      <td>14</td>\n",
       "      <td>65475</td>\n",
       "      <td>COPD</td>\n",
       "      <td>48</td>\n",
       "      <td>unchanged</td>\n",
       "    </tr>\n",
       "    <tr>\n",
       "      <th>2</th>\n",
       "      <td>F</td>\n",
       "      <td>10</td>\n",
       "      <td>65484</td>\n",
       "      <td>High Blood Pressure</td>\n",
       "      <td>38</td>\n",
       "      <td>intensive care</td>\n",
       "    </tr>\n",
       "    <tr>\n",
       "      <th>3</th>\n",
       "      <td>F</td>\n",
       "      <td>30</td>\n",
       "      <td>27727</td>\n",
       "      <td>Heart Disease</td>\n",
       "      <td>31</td>\n",
       "      <td>unchanged</td>\n",
       "    </tr>\n",
       "    <tr>\n",
       "      <th>4</th>\n",
       "      <td>F</td>\n",
       "      <td>36</td>\n",
       "      <td>27772</td>\n",
       "      <td>Diabetes</td>\n",
       "      <td>34</td>\n",
       "      <td>unchanged</td>\n",
       "    </tr>\n",
       "  </tbody>\n",
       "</table>\n",
       "</div>"
      ],
      "text/plain": [
       "  Gender  Age    Zip            Diagnosis  Treatment         Outcome\n",
       "0      F   10  65418  High Blood Pressure         25  intensive care\n",
       "1      F   14  65475                 COPD         48       unchanged\n",
       "2      F   10  65484  High Blood Pressure         38  intensive care\n",
       "3      F   30  27727        Heart Disease         31       unchanged\n",
       "4      F   36  27772             Diabetes         34       unchanged"
      ]
     },
     "execution_count": 9,
     "metadata": {},
     "output_type": "execute_result"
    }
   ],
   "source": [
    "# Have a quick glance at the data\n",
    "df_reident_synth.head()"
   ]
  },
  {
   "cell_type": "code",
   "execution_count": 10,
   "metadata": {
    "gather": {
     "logged": 1607612945589
    }
   },
   "outputs": [
    {
     "data": {
      "text/html": [
       "<div>\n",
       "<style scoped>\n",
       "    .dataframe tbody tr th:only-of-type {\n",
       "        vertical-align: middle;\n",
       "    }\n",
       "\n",
       "    .dataframe tbody tr th {\n",
       "        vertical-align: top;\n",
       "    }\n",
       "\n",
       "    .dataframe thead th {\n",
       "        text-align: right;\n",
       "    }\n",
       "</style>\n",
       "<table border=\"1\" class=\"dataframe\">\n",
       "  <thead>\n",
       "    <tr style=\"text-align: right;\">\n",
       "      <th></th>\n",
       "      <th>Gender_encoded</th>\n",
       "      <th>Age_encoded</th>\n",
       "      <th>Zip_encoded</th>\n",
       "      <th>Diagnosis_encoded</th>\n",
       "    </tr>\n",
       "  </thead>\n",
       "  <tbody>\n",
       "    <tr>\n",
       "      <th>0</th>\n",
       "      <td>0</td>\n",
       "      <td>10</td>\n",
       "      <td>65418</td>\n",
       "      <td>9</td>\n",
       "    </tr>\n",
       "    <tr>\n",
       "      <th>1</th>\n",
       "      <td>0</td>\n",
       "      <td>14</td>\n",
       "      <td>65475</td>\n",
       "      <td>2</td>\n",
       "    </tr>\n",
       "    <tr>\n",
       "      <th>2</th>\n",
       "      <td>0</td>\n",
       "      <td>10</td>\n",
       "      <td>65484</td>\n",
       "      <td>9</td>\n",
       "    </tr>\n",
       "    <tr>\n",
       "      <th>3</th>\n",
       "      <td>0</td>\n",
       "      <td>30</td>\n",
       "      <td>27727</td>\n",
       "      <td>7</td>\n",
       "    </tr>\n",
       "    <tr>\n",
       "      <th>4</th>\n",
       "      <td>0</td>\n",
       "      <td>36</td>\n",
       "      <td>27772</td>\n",
       "      <td>3</td>\n",
       "    </tr>\n",
       "  </tbody>\n",
       "</table>\n",
       "</div>"
      ],
      "text/plain": [
       "   Gender_encoded  Age_encoded  Zip_encoded  Diagnosis_encoded\n",
       "0               0           10        65418                  9\n",
       "1               0           14        65475                  2\n",
       "2               0           10        65484                  9\n",
       "3               0           30        27727                  7\n",
       "4               0           36        27772                  3"
      ]
     },
     "execution_count": 10,
     "metadata": {},
     "output_type": "execute_result"
    }
   ],
   "source": [
    "# Encode the data set and display it\n",
    "df_reident_encoded = reident.do_encode(df_reident_synth, ['Gender', 'Age', 'Zip', 'Diagnosis'], reident.diseases)\n",
    "df_reident_encoded.head()"
   ]
  },
  {
   "cell_type": "markdown",
   "metadata": {},
   "source": [
    "### Synthesizing the demographic data\n",
    "Finally, we synthesize the data with the MWEM synthesizer. Here are some considerations regarding the parameters:\n",
    "- `Q_count` Should be higher than the number of iterations (at least 5 and 10 times the number of iterations). Default is 400.\n",
    "- `epsilon`The privacy parameter. 3.0 is a good starting points. Lower values correspond to a higher levels of privacy.\n",
    "- `iterations` Comparable to epochs in deep learning. Between 30 and 60. Fewer iterations means that the budget is used more efficiently. Default is 30.\n",
    "- `mult_weights_iterations` Should be less than number of total iterations (usually between 5 and 50). Default is 20.\n",
    "- `splits` MWEM will automatically split the features with split factor if this field isn’t specified. This field overrides split_factor, and creates custom user specified splits of features i.e. for a set with 5 features, [[0,3],[1,2,4]] (implies that features 0 and 3 are correlated, and features 1,2 and 4 are correlated).\n",
    "- `split_factor` Choose highest split factor without affecting performance. Start with number of features, then subdivide by 2 (round up)."
   ]
  },
  {
   "cell_type": "code",
   "execution_count": 11,
   "metadata": {},
   "outputs": [
    {
     "name": "stdout",
     "output_type": "stream",
     "text": [
      "CPU times: user 13.5 s, sys: 129 ms, total: 13.6 s\n",
      "Wall time: 13.4 s\n"
     ]
    }
   ],
   "source": [
    "%%time\n",
    "# Apply the synthesizer to the data set\n",
    "synthetic_data = MWEMSynthesizer(Q_count = 400,\n",
    "                        epsilon = 3.00,\n",
    "                        iterations = 60,\n",
    "                        mult_weights_iterations = 40,\n",
    "                        splits = [],\n",
    "                        split_factor = 1)\n",
    "synthetic_data.fit(df_reident_encoded.to_numpy())"
   ]
  },
  {
   "cell_type": "code",
   "execution_count": 12,
   "metadata": {},
   "outputs": [
    {
     "name": "stdout",
     "output_type": "stream",
     "text": [
      "CPU times: user 4.64 s, sys: 292 ms, total: 4.94 s\n",
      "Wall time: 4.51 s\n"
     ]
    }
   ],
   "source": [
    "%%time\n",
    "# Convert to dataframe\n",
    "df_synthesized = pd.DataFrame(synthetic_data.sample(int(df_reident_encoded.shape[0])), columns=df_reident_encoded.columns)"
   ]
  },
  {
   "cell_type": "code",
   "execution_count": 13,
   "metadata": {
    "gather": {
     "logged": 1607616212916
    }
   },
   "outputs": [],
   "source": [
    "# Write it to file, if wanted\n",
    "# df_synthesized.to_csv('data/data_synthesized.csv', sep=\",\", encoding=\"utf-8\", index=False)"
   ]
  },
  {
   "cell_type": "markdown",
   "metadata": {},
   "source": [
    "### Compare original and synthetic data\n",
    "Below, we are going to use the `create_histogram` function to illustrate the __diagnoses__ distribution of both data sets. \n",
    "Ideally, the bars for each diagnosis do not differ too much from each other. The more similar the bars are for the respective disease, the less information is lost during the synthetization process."
   ]
  },
  {
   "cell_type": "code",
   "execution_count": 14,
   "metadata": {
    "gather": {
     "logged": 1607616213410
    }
   },
   "outputs": [
    {
     "data": {
      "image/png": "[encoded data removed]",
      "text/plain": [
       "<Figure size 1080x576 with 1 Axes>"
      ]
     },
     "metadata": {
      "image/png": {
       "height": 485,
       "width": 912
      },
      "needs_background": "light"
     },
     "output_type": "display_data"
    }
   ],
   "source": [
    "reident.create_histogram(df_reident_encoded, df_synthesized, 'Diagnosis_encoded', reident.diseases)"
   ]
  },
  {
   "cell_type": "markdown",
   "metadata": {},
   "source": [
    "## Reidentification Attack II - Synthesized Demographic Data + Public Medical Data (non-grouped)\n",
    "Finally, we try the re-identification attack on the synthesized data using the `try_reidentification_noise`-function.\n",
    "As stated above, the synthesized data set has new combinations of demographic data, so we do not deal with the _raw/real_ data any more. While it is possible that a potential match is detected, it is unlikely that we deal with an actual match here."
   ]
  },
  {
   "cell_type": "code",
   "execution_count": 15,
   "metadata": {
    "gather": {
     "logged": 1607616222576
    }
   },
   "outputs": [
    {
     "name": "stdout",
     "output_type": "stream",
     "text": [
      "Medical Dataset:\n"
     ]
    },
    {
     "data": {
      "text/html": [
       "<div>\n",
       "<style scoped>\n",
       "    .dataframe tbody tr th:only-of-type {\n",
       "        vertical-align: middle;\n",
       "    }\n",
       "\n",
       "    .dataframe tbody tr th {\n",
       "        vertical-align: top;\n",
       "    }\n",
       "\n",
       "    .dataframe thead th {\n",
       "        text-align: right;\n",
       "    }\n",
       "</style>\n",
       "<table border=\"1\" class=\"dataframe\">\n",
       "  <thead>\n",
       "    <tr style=\"text-align: right;\">\n",
       "      <th></th>\n",
       "      <th>ID</th>\n",
       "      <th>Gender</th>\n",
       "      <th>Age</th>\n",
       "      <th>Zip</th>\n",
       "      <th>Diagnosis</th>\n",
       "      <th>Treatment</th>\n",
       "      <th>Outcome</th>\n",
       "    </tr>\n",
       "  </thead>\n",
       "  <tbody>\n",
       "    <tr>\n",
       "      <th>2878</th>\n",
       "      <td>30198b29a32c4437ab0f520b4f2ea80c</td>\n",
       "      <td>F</td>\n",
       "      <td>55</td>\n",
       "      <td>98535</td>\n",
       "      <td>Arthritis</td>\n",
       "      <td>50</td>\n",
       "      <td>intensive care</td>\n",
       "    </tr>\n",
       "    <tr>\n",
       "      <th>22402</th>\n",
       "      <td>3e9ad6193c4d458b9e593df24b4fb92f</td>\n",
       "      <td>M</td>\n",
       "      <td>86</td>\n",
       "      <td>82318</td>\n",
       "      <td>Diabetes</td>\n",
       "      <td>24</td>\n",
       "      <td>recovered</td>\n",
       "    </tr>\n",
       "    <tr>\n",
       "      <th>10670</th>\n",
       "      <td>77454ac7aa13446a8dc738a8eb024e81</td>\n",
       "      <td>F</td>\n",
       "      <td>46</td>\n",
       "      <td>41732</td>\n",
       "      <td>Arthritis</td>\n",
       "      <td>24</td>\n",
       "      <td>recovered</td>\n",
       "    </tr>\n",
       "    <tr>\n",
       "      <th>549</th>\n",
       "      <td>62ec56fb72a14e0e9f9c684bf5dd4c00</td>\n",
       "      <td>F</td>\n",
       "      <td>70</td>\n",
       "      <td>56172</td>\n",
       "      <td>High Blood Pressure</td>\n",
       "      <td>41</td>\n",
       "      <td>recovered</td>\n",
       "    </tr>\n",
       "    <tr>\n",
       "      <th>2787</th>\n",
       "      <td>20952448800040e5ad716e21c1a962d5</td>\n",
       "      <td>F</td>\n",
       "      <td>73</td>\n",
       "      <td>86049</td>\n",
       "      <td>Cancer</td>\n",
       "      <td>32</td>\n",
       "      <td>unchanged</td>\n",
       "    </tr>\n",
       "  </tbody>\n",
       "</table>\n",
       "</div>"
      ],
      "text/plain": [
       "                                     ID Gender  Age    Zip  \\\n",
       "2878   30198b29a32c4437ab0f520b4f2ea80c      F   55  98535   \n",
       "22402  3e9ad6193c4d458b9e593df24b4fb92f      M   86  82318   \n",
       "10670  77454ac7aa13446a8dc738a8eb024e81      F   46  41732   \n",
       "549    62ec56fb72a14e0e9f9c684bf5dd4c00      F   70  56172   \n",
       "2787   20952448800040e5ad716e21c1a962d5      F   73  86049   \n",
       "\n",
       "                 Diagnosis  Treatment         Outcome  \n",
       "2878             Arthritis         50  intensive care  \n",
       "22402             Diabetes         24       recovered  \n",
       "10670            Arthritis         24       recovered  \n",
       "549    High Blood Pressure         41       recovered  \n",
       "2787                Cancer         32       unchanged  "
      ]
     },
     "metadata": {},
     "output_type": "display_data"
    },
    {
     "name": "stdout",
     "output_type": "stream",
     "text": [
      "\n",
      "Synthesized Demographic Dataset:\n"
     ]
    },
    {
     "data": {
      "text/html": [
       "<div>\n",
       "<style scoped>\n",
       "    .dataframe tbody tr th:only-of-type {\n",
       "        vertical-align: middle;\n",
       "    }\n",
       "\n",
       "    .dataframe tbody tr th {\n",
       "        vertical-align: top;\n",
       "    }\n",
       "\n",
       "    .dataframe thead th {\n",
       "        text-align: right;\n",
       "    }\n",
       "</style>\n",
       "<table border=\"1\" class=\"dataframe\">\n",
       "  <thead>\n",
       "    <tr style=\"text-align: right;\">\n",
       "      <th></th>\n",
       "      <th>Gender_encoded</th>\n",
       "      <th>Age_encoded</th>\n",
       "      <th>Zip_encoded</th>\n",
       "      <th>Diagnosis_encoded</th>\n",
       "    </tr>\n",
       "  </thead>\n",
       "  <tbody>\n",
       "    <tr>\n",
       "      <th>2992</th>\n",
       "      <td>0</td>\n",
       "      <td>62</td>\n",
       "      <td>79304</td>\n",
       "      <td>8</td>\n",
       "    </tr>\n",
       "    <tr>\n",
       "      <th>6094</th>\n",
       "      <td>1</td>\n",
       "      <td>63</td>\n",
       "      <td>28764</td>\n",
       "      <td>8</td>\n",
       "    </tr>\n",
       "    <tr>\n",
       "      <th>7410</th>\n",
       "      <td>0</td>\n",
       "      <td>34</td>\n",
       "      <td>45279</td>\n",
       "      <td>0</td>\n",
       "    </tr>\n",
       "    <tr>\n",
       "      <th>17414</th>\n",
       "      <td>1</td>\n",
       "      <td>39</td>\n",
       "      <td>95023</td>\n",
       "      <td>9</td>\n",
       "    </tr>\n",
       "    <tr>\n",
       "      <th>27195</th>\n",
       "      <td>0</td>\n",
       "      <td>77</td>\n",
       "      <td>50254</td>\n",
       "      <td>6</td>\n",
       "    </tr>\n",
       "  </tbody>\n",
       "</table>\n",
       "</div>"
      ],
      "text/plain": [
       "       Gender_encoded  Age_encoded  Zip_encoded  Diagnosis_encoded\n",
       "2992                0           62        79304                  8\n",
       "6094                1           63        28764                  8\n",
       "7410                0           34        45279                  0\n",
       "17414               1           39        95023                  9\n",
       "27195               0           77        50254                  6"
      ]
     },
     "metadata": {},
     "output_type": "display_data"
    }
   ],
   "source": [
    "print('Medical Dataset:')\n",
    "display(df_medical_synth.sample(5))\n",
    "print('\\nSynthesized Demographic Dataset:')\n",
    "display(df_synthesized.sample(5))"
   ]
  },
  {
   "cell_type": "markdown",
   "metadata": {},
   "source": [
    "### Perform the attack\n",
    "Now, we perform the reidentification attack with the synthetic data, again using a combinatorial approach."
   ]
  },
  {
   "cell_type": "code",
   "execution_count": 16,
   "metadata": {
    "gather": {
     "logged": 1607616380533
    }
   },
   "outputs": [
    {
     "name": "stderr",
     "output_type": "stream",
     "text": [
      "INFO - Trying reidentification with differential privacy-protected data: 30000. Attacker collection: 30000\n",
      "INFO - In this setup, we can only count potential matches. We cannot validate for actual matches, as we do not have the unique patient ids after synthesizing.\n",
      "100%|██████████| 30000/30000 [02:30<00:00, 198.77it/s]\n",
      "INFO - Identified 0 potential matches!\n"
     ]
    }
   ],
   "source": [
    "reident_attack_2 = reident.try_reidentification_noise(df_synthesized, df_medical_synth, logger)"
   ]
  },
  {
   "cell_type": "markdown",
   "metadata": {},
   "source": [
    "### Results of the attack\n",
    "Below, we show the amount of potential and actual matches and provide a glance at the data."
   ]
  },
  {
   "cell_type": "code",
   "execution_count": 17,
   "metadata": {
    "gather": {
     "logged": 1607614839320
    }
   },
   "outputs": [
    {
     "name": "stdout",
     "output_type": "stream",
     "text": [
      "Found 0 potential matches!\n"
     ]
    },
    {
     "data": {
      "text/html": [
       "<div>\n",
       "<style scoped>\n",
       "    .dataframe tbody tr th:only-of-type {\n",
       "        vertical-align: middle;\n",
       "    }\n",
       "\n",
       "    .dataframe tbody tr th {\n",
       "        vertical-align: top;\n",
       "    }\n",
       "\n",
       "    .dataframe thead th {\n",
       "        text-align: right;\n",
       "    }\n",
       "</style>\n",
       "<table border=\"1\" class=\"dataframe\">\n",
       "  <thead>\n",
       "    <tr style=\"text-align: right;\">\n",
       "      <th></th>\n",
       "      <th>ID</th>\n",
       "      <th>Gender</th>\n",
       "      <th>Age</th>\n",
       "      <th>Zip</th>\n",
       "      <th>Diagnosis</th>\n",
       "      <th>Treatment</th>\n",
       "      <th>Outcome</th>\n",
       "    </tr>\n",
       "  </thead>\n",
       "  <tbody>\n",
       "  </tbody>\n",
       "</table>\n",
       "</div>"
      ],
      "text/plain": [
       "Empty DataFrame\n",
       "Columns: [ID, Gender, Age, Zip, Diagnosis, Treatment, Outcome]\n",
       "Index: []"
      ]
     },
     "execution_count": 17,
     "metadata": {},
     "output_type": "execute_result"
    }
   ],
   "source": [
    "print(f'Found {len(reident_attack_2)} potential matches!')\n",
    "reident_attack_2.head()"
   ]
  }
 ],
 "metadata": {
  "kernel_info": {
   "name": "python3"
  },
  "kernelspec": {
   "display_name": "Python 3",
   "language": "python",
   "name": "python3"
  },
  "language_info": {
   "codemirror_mode": {
    "name": "ipython",
    "version": 3
   },
   "file_extension": ".py",
   "mimetype": "text/x-python",
   "name": "python",
   "nbconvert_exporter": "python",
   "pygments_lexer": "ipython3",
   "version": "3.6.9"
  },
  "nteract": {
   "version": "nteract-front-end@1.0.0"
  }
 },
 "nbformat": 4,
 "nbformat_minor": 4
}
