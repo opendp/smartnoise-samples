{
 "cells": [
  {
   "cell_type": "markdown",
   "metadata": {},
   "source": [
    "# Private Synopsis\n",
    "\n"
   ]
  },
  {
   "cell_type": "code",
   "execution_count": 1,
   "metadata": {},
   "outputs": [],
   "source": [
    "import pyspark\n",
    "import numpy as np\n",
    "from pyspark.sql import SparkSession\n",
    "from pyspark.sql.functions import *\n",
    "spark = SparkSession.builder.getOrCreate()"
   ]
  },
  {
   "cell_type": "markdown",
   "metadata": {},
   "source": [
    "# Load the Data\n",
    "\n",
    "First we load the California demographic data into a Spark `DataFrame`.  We let Spark infer the column names and types, then clean things up a bit."
   ]
  },
  {
   "cell_type": "code",
   "execution_count": 2,
   "metadata": {},
   "outputs": [
    {
     "name": "stdout",
     "output_type": "stream",
     "text": [
      "+--------+-----+-----+---+---+----+-------+------+-----+-----+-------+\n",
      "|PersonID|state| puma|sex|age|educ| income|latino|black|asian|married|\n",
      "+--------+-----+-----+---+---+----+-------+------+-----+-----+-------+\n",
      "|       1|    6|60100|  0| 83|   9|20500.0| false|false|false|   true|\n",
      "|       2|    6|60100|  1| 81|   9| 4800.0| false|false|false|   true|\n",
      "|       3|    6|60100|  0| 45|   9|12000.0| false|false|false|   true|\n",
      "|       4|    6|60100|  1| 42|  12| 7200.0| false|false|false|   true|\n",
      "|       5|    6|60100|  0| 35|  11|55600.0| false|false|false|   true|\n",
      "+--------+-----+-----+---+---+----+-------+------+-----+-----+-------+\n",
      "only showing top 5 rows\n",
      "\n",
      "There are 1223992 individuals in the data\n"
     ]
    }
   ],
   "source": [
    "from pyspark.sql.types import FloatType, BooleanType\n",
    "\n",
    "filepath = \"../../dp-test-datasets/data/PUMS_california_demographics/data.csv\"\n",
    "pums = spark.read.load(filepath, format=\"csv\", sep=\",\",inferSchema=\"true\", header=\"true\")\n",
    "\n",
    "pums = pums.withColumnRenamed(\"_c0\", \"PersonID\")\n",
    "\n",
    "pums = pums.withColumn(\"income\", col(\"income\").cast(FloatType()))\n",
    "pums = pums.withColumn(\"latino\", col(\"latino\").cast(BooleanType()))\n",
    "pums = pums.withColumn(\"black\", col(\"black\").cast(BooleanType()))\n",
    "pums = pums.withColumn(\"asian\", col(\"asian\").cast(BooleanType()))\n",
    "pums = pums.withColumn(\"married\", col(\"married\").cast(BooleanType()))\n",
    "\n",
    "pums.show(5)\n",
    "print(\"There are {0} individuals in the data\".format(pums.count()))"
   ]
  },
  {
   "cell_type": "markdown",
   "metadata": {},
   "source": [
    "Each row in the data represents a unique individual.\n",
    "\n",
    "# Create a SparkReader\n",
    "\n",
    "The SparkReader allows SQL queries against the `DataFrame`.  It allows exact queries with no differential privacy.  For example, we can compute the average income for individuals in the database."
   ]
  },
  {
   "cell_type": "code",
   "execution_count": 3,
   "metadata": {},
   "outputs": [
    {
     "name": "stdout",
     "output_type": "stream",
     "text": [
      "+-------+------------------+\n",
      "|  count|       avg(income)|\n",
      "+-------+------------------+\n",
      "|1223992|31070.466115791605|\n",
      "+-------+------------------+\n",
      "\n"
     ]
    }
   ],
   "source": [
    "from opendp.smartnoise.sql import SparkReader\n",
    "\n",
    "pums.createOrReplaceTempView(\"PUMS_large\")\n",
    "\n",
    "reader = SparkReader(spark)\n",
    "query = 'SELECT COUNT(*) AS count, AVG(income) FROM PUMS_large'\n",
    "\n",
    "\n",
    "res = reader.execute_typed(query)\n",
    "res.show()"
   ]
  },
  {
   "cell_type": "markdown",
   "metadata": {},
   "source": [
    "# Generate Exact Synopsis\n",
    "\n",
    "We can use the `SparkReader` to create a synopsis file that calculates some metrics grouped by the dimensions in the data.  We can then load the synopsis into an Excel spreadsheet to use in a Pivot Table, or query the synopsis from Pandas."
   ]
  },
  {
   "cell_type": "code",
   "execution_count": 4,
   "metadata": {},
   "outputs": [
    {
     "name": "stdout",
     "output_type": "stream",
     "text": [
      "+---+---+----+-------+------+-----+-----+---+------------------+\n",
      "|sex|age|educ|married|latino|black|asian|  n|            income|\n",
      "+---+---+----+-------+------+-----+-----+---+------------------+\n",
      "|  1| 20|   7|   true|  true|false|false|107| 3950.654205607477|\n",
      "|  0| 67|  11|  false| false|false|false|107| 33136.44859813084|\n",
      "|  0| 68|   6|  false| false|false|false| 15|18603.333333333332|\n",
      "|  1| 46|  11|   true| false|false|false|865|27293.759537572256|\n",
      "|  0| 73|   9|  false| false|false|false|141|29047.375886524824|\n",
      "+---+---+----+-------+------+-----+-----+---+------------------+\n",
      "only showing top 5 rows\n",
      "\n",
      "20879 distinct dimensions\n"
     ]
    }
   ],
   "source": [
    "query = 'SELECT sex, age, educ, married, latino, black, asian, COUNT(*) AS n, AVG(income) AS income FROM PUMS_large GROUP BY sex, age, educ, married, latino, black, asian'\n",
    "\n",
    "synopsis = reader.execute(query)\n",
    "synopsis.show(5)\n",
    "print(\"{0} distinct dimensions\".format(synopsis.count()))"
   ]
  },
  {
   "cell_type": "markdown",
   "metadata": {},
   "source": [
    "We now have far fewer rows, but we can still recover the exact values.  For example, the average income queried from our synopsis exactly matches the average income we queried above:"
   ]
  },
  {
   "cell_type": "code",
   "execution_count": 5,
   "metadata": {},
   "outputs": [
    {
     "name": "stdout",
     "output_type": "stream",
     "text": [
      "+-------+------------------+\n",
      "|  count|        avg_income|\n",
      "+-------+------------------+\n",
      "|1223992|31070.466115791605|\n",
      "+-------+------------------+\n",
      "\n"
     ]
    }
   ],
   "source": [
    "synopsis.createOrReplaceTempView(\"Synopsis\")\n",
    "\n",
    "res = reader.execute_typed(\"SELECT SUM(n) AS count, SUM(income * n) / SUM(n) AS avg_income FROM Synopsis\")\n",
    "res.show()"
   ]
  },
  {
   "cell_type": "markdown",
   "metadata": {},
   "source": [
    "Note that we have gone from 1.2 million rows to approximately 20,000 rows, so each row in our synopsis no longer represents an individual.  However, we have still not attempted to use any differential privacy, so our synopsis is not private.  For example, there are several dimensions in our synopsis which uniquely identify individuals."
   ]
  },
  {
   "cell_type": "code",
   "execution_count": 6,
   "metadata": {},
   "outputs": [
    {
     "name": "stdout",
     "output_type": "stream",
     "text": [
      "+---+---+----+-------+------+-----+-----+---+-------+\n",
      "|sex|age|educ|married|latino|black|asian|  n| income|\n",
      "+---+---+----+-------+------+-----+-----+---+-------+\n",
      "|  1| 49|  11|   true|  true|false| true|  1|24500.0|\n",
      "|  1| 30|   5|   true| false| true| true|  1|    0.0|\n",
      "|  1| 19|  13|  false| false| true| true|  1| 3000.0|\n",
      "|  1| 56|  12|  false|  true|false| true|  1|20000.0|\n",
      "|  0| 89|   7|  false| false|false| true|  1| 8300.0|\n",
      "+---+---+----+-------+------+-----+-----+---+-------+\n",
      "only showing top 5 rows\n",
      "\n"
     ]
    }
   ],
   "source": [
    "reader.execute_typed(\"SELECT * FROM Synopsis WHERE n <= 1\").show(5)"
   ]
  },
  {
   "cell_type": "markdown",
   "metadata": {},
   "source": [
    "Additionally, cells with exact counts > 1 can still leak privacy.  To protect against these and other attacks, let's make our synopsis private.\n",
    "\n",
    "# Generate Private Synopsis\n",
    "\n",
    "To generate a private synopsis, we use the same query we used to create the exact synopsis, but we use a `PrivateReader`, which transparently adds differential privacy."
   ]
  },
  {
   "cell_type": "code",
   "execution_count": 7,
   "metadata": {},
   "outputs": [
    {
     "name": "stdout",
     "output_type": "stream",
     "text": [
      "+---+---+----+-------+------+-----+-----+---+------------------+\n",
      "|sex|age|educ|married|latino|black|asian|  n|            income|\n",
      "+---+---+----+-------+------+-----+-----+---+------------------+\n",
      "|  1| 20|   7|   true|  true|false|false|103| 9585.546076836594|\n",
      "|  0| 67|  11|  false| false|false|false|111| 46380.12511371435|\n",
      "|  0| 68|   6|  false| false|false|false| 14| 43333.36114676229|\n",
      "|  1| 46|  11|   true| false|false|false|863|26615.073483211134|\n",
      "|  0| 73|   9|  false| false|false|false|143|32456.924939571072|\n",
      "+---+---+----+-------+------+-----+-----+---+------------------+\n",
      "only showing top 5 rows\n",
      "\n",
      "20879 distinct dimensions\n"
     ]
    }
   ],
   "source": [
    "from opendp.smartnoise.sql import PrivateReader\n",
    "from opendp.smartnoise.metadata import CollectionMetadata\n",
    "\n",
    "meta = CollectionMetadata.from_file('readers/PUMS_large.yaml')\n",
    "\n",
    "epsilon = 4.0\n",
    "\n",
    "private = PrivateReader(meta, reader, epsilon)\n",
    "private.reader.compare.search_path = [\"PUMS\"]\n",
    "private.options.row_privacy = True\n",
    "private.options.clamp_counts = False\n",
    "private.options.censor_dims = False\n",
    "\n",
    "private_synopsis = private.execute_typed(query) # using same query from before\n",
    "\n",
    "private_synopsis.show(5)\n",
    "print(\"{0} distinct dimensions\".format(private_synopsis.count()))"
   ]
  },
  {
   "cell_type": "markdown",
   "metadata": {},
   "source": [
    "Because the `PrivateReader` transparently adds noise, you will notice that the numbers change each time you run the cell above, sometimes even returning negative counts or negative incomes.  However, the larger aggregates are still fairly accurate, because the noise is symmetrical:"
   ]
  },
  {
   "cell_type": "code",
   "execution_count": 8,
   "metadata": {},
   "outputs": [
    {
     "name": "stdout",
     "output_type": "stream",
     "text": [
      "+-------+------------------+\n",
      "|  count|        avg_income|\n",
      "+-------+------------------+\n",
      "|1215006|30836.810551665672|\n",
      "+-------+------------------+\n",
      "\n"
     ]
    }
   ],
   "source": [
    "private_synopsis.persist().createOrReplaceTempView(\"PrivateSynopsis\")\n",
    "\n",
    "reader.execute_typed(\"SELECT SUM(n) AS count, SUM(income * n) / SUM(n) AS avg_income FROM PrivateSynopsis\").show()\n"
   ]
  },
  {
   "cell_type": "markdown",
   "metadata": {},
   "source": [
    "Notice that we call `persist()` when loading the private synopsis into a view.  This is how we ensure that Spark doesn't generate a new synopsis every time we query the synopsis.  The goal of a synopsis is to support many queries from a single generation, and we do not want to pay additional `epsilon` privacy cost every time we use the synopsis.  If we create the synopsis once, we can export to Excel or persist in a view, then query indefinitely without incurring further privacy cost.\n",
    "\n",
    "## PrivateReader Parameters\n",
    "\n",
    "When we created the `PrivateReader` above, we passed in the `epsilon` parameter and wrapped our existing `SparkReader` we created earlier.  The `PrivateReader` simply intercepts calls to `SparkReader` and adds noise calibrated to the requested `epsilon`.  We also passed in some metadata describing the sensitivity of the fields in the data source, loaded from a YAML file.  In particular, the algorithm needed to know that the `income` field ranges between 0 and 500,000, in order to appropriately calibrate the noise:"
   ]
  },
  {
   "cell_type": "code",
   "execution_count": 9,
   "metadata": {},
   "outputs": [
    {
     "name": "stdout",
     "output_type": "stream",
     "text": [
      "PUMS.PUMS_large [0 rows]\n",
      "\t*PersonID [int] (unbounded)\n",
      "\tstate [int] (unbounded)\n",
      "\tpuma (card: 0)\n",
      "\tsex (card: 0)\n",
      "\tage [int] (0,100)\n",
      "\teduc (card: 0)\n",
      "\tincome [float] (0.0,500000.0)\n",
      "\tlatino (boolean)\n",
      "\tblack (boolean)\n",
      "\tasian (boolean)\n",
      "\tmarried (boolean)\n"
     ]
    }
   ],
   "source": [
    "print(meta)"
   ]
  },
  {
   "cell_type": "markdown",
   "metadata": {},
   "source": [
    "Also notice that the YAML file refers to the PUMS_large table with the prefix PUMS, which is a convention used in the SQL-92 specification allowing tables and views to be grouped together.  Although we are only querying a single source table here, the readers support querying over multiple tables.  Since our query does not specify the full disambiguated table name, we tell our reader to treat PUMS as a default namespace by specifying `private.reader.compare.search_path`.\n",
    "\n",
    "You can read more about the other `PrivateReader` options [here](https://opendifferentialprivacy.github.io/smartnoise-samples/docs/api/system/sql/private_reader.html#opendp.smartnoise.sql.private_reader.PrivateReaderOptions)\n",
    "\n",
    "# Censoring Infrequent Dimensions\n",
    "\n",
    "One option worth exploring further is the `censor_dims` option we set to `False` above.  Recall that the number of distinct dimensions in our private synopsis was exactly the same as the number of distinct dimesions in our exact synopsis.  In our exact synopsis, the existence of dimensions with exactly one member constituted a privacy leak.  Since we have added noise, dimensions with fewer than 2 members are significantly less useful:\n"
   ]
  },
  {
   "cell_type": "code",
   "execution_count": 10,
   "metadata": {},
   "outputs": [
    {
     "name": "stdout",
     "output_type": "stream",
     "text": [
      "+---+---+----+-------+------+-----+-----+---+-------------------+\n",
      "|sex|age|educ|married|latino|black|asian|  n|             income|\n",
      "+---+---+----+-------+------+-----+-----+---+-------------------+\n",
      "|  1| 30|   5|   true| false| true| true|  0|  827256.7974851888|\n",
      "|  1| 19|  13|  false| false| true| true|  0| 1801637.9527226915|\n",
      "|  1| 45|  13|  false|  true|false| true|  0| -605967.1082674864|\n",
      "|  0| 89|   7|  false| false|false| true|  1| 109945.66037695586|\n",
      "|  0| 63|   7|   true| false|false| true|  1|-1770920.7602495227|\n",
      "|  1| 93|  14|  false|  true|false|false| -2| -949800.0613723986|\n",
      "|  0| 58|   2|  false|  true| true|false| -1|  647733.4740850072|\n",
      "|  1| 74|  11|  false|  true| true|false|  0|  933576.4033864739|\n",
      "+---+---+----+-------+------+-----+-----+---+-------------------+\n",
      "only showing top 8 rows\n",
      "\n"
     ]
    }
   ],
   "source": [
    "reader.execute_typed(\"SELECT * FROM PrivateSynopsis WHERE n <= 1\").show(8)"
   ]
  },
  {
   "cell_type": "markdown",
   "metadata": {},
   "source": [
    "However, it is possible that the mere existence of a unique dimension combination in the data set would constitute a privacy failure.  For example, if this data represented people with a sensitive medical condition, mere membership would sensitive.  If we want to protect the queries further, we can tell the system to hide infrequent dimensions, adhering to epsilon, delta differential privacy."
   ]
  },
  {
   "cell_type": "code",
   "execution_count": 11,
   "metadata": {},
   "outputs": [
    {
     "name": "stdout",
     "output_type": "stream",
     "text": [
      "14358 distinct dimensions\n"
     ]
    }
   ],
   "source": [
    "delta = 1/1_200_000\n",
    "\n",
    "private = PrivateReader(meta, reader, epsilon, delta)\n",
    "private.options.censor_dims = True\n",
    "\n",
    "private_synopsis = private.execute_typed(query)\n",
    "print(\"{0} distinct dimensions\".format(private_synopsis.count()))"
   ]
  },
  {
   "cell_type": "code",
   "execution_count": 12,
   "metadata": {},
   "outputs": [
    {
     "name": "stdout",
     "output_type": "stream",
     "text": [
      "+-------+------------------+\n",
      "|  count|        avg_income|\n",
      "+-------+------------------+\n",
      "|1206142|31202.658686626834|\n",
      "+-------+------------------+\n",
      "\n"
     ]
    }
   ],
   "source": [
    "private_synopsis.persist().createOrReplaceTempView(\"PrivateSynopsis\")\n",
    "\n",
    "reader.execute_typed(\"SELECT SUM(n) AS count, SUM(income * n) / SUM(n) AS avg_income FROM PrivateSynopsis\").show()"
   ]
  },
  {
   "cell_type": "markdown",
   "metadata": {},
   "source": [
    "From the outputs, you can see the private synopsis still computes an accurate average income, but we are missing about 6,500 dimensions, representing about 12,000 individuals.  It may be desirable to leave the synopsis like this, to indicate that some individuals have been dropped for privacy reasons.  In some settings, however, this is undesirable, because aggregate counts will be biased downward.  To resolve this, we can add an `other` dimension that recaptures the dropped dimension.\n",
    "\n",
    "## Recovering Infrequent Dimensions"
   ]
  },
  {
   "cell_type": "code",
   "execution_count": 13,
   "metadata": {},
   "outputs": [
    {
     "name": "stdout",
     "output_type": "stream",
     "text": [
      "Combining 6438 distinct dimensions that were dropped.\n",
      "Selecting 12481 records from the dimensions that were censored\n"
     ]
    }
   ],
   "source": [
    "# get the dimensions\n",
    "other = 'SELECT DISTINCT sex, age, educ, married, latino, black, asian FROM PUMS_large EXCEPT (SELECT DISTINCT sex, age, educ, married, latino, black, asian FROM PrivateSynopsis)'\n",
    "other_dims = reader.execute_typed(other)\n",
    "other_dims.persist().createOrReplaceTempView(\"OtherDims\")\n",
    "print(\"Combining {0} distinct dimensions that were dropped.\".format(other_dims.count()))\n",
    "\n",
    "# get rows that match censored dimensions\n",
    "filtered = 'SELECT t1.* FROM PUMS_large t1 LEFT SEMI JOIN OtherDims t2 ON ( t1.sex = t2.sex AND t1.age = t2.age AND t1.educ = t2.educ AND t1.married = t2.married AND t1.latino = t2.latino AND t1.black = t2.black AND t1.asian = t2.asian)'\n",
    "filtered_pums = reader.execute_typed(filtered)\n",
    "filtered_pums.persist().createOrReplaceTempView(\"PUMS_censored\")\n",
    "print(\"Selecting {0} records from the dimensions that were censored\".format(filtered_pums.count()))"
   ]
  },
  {
   "cell_type": "markdown",
   "metadata": {},
   "source": [
    "We now have a table, `PUMS_censored`, which has all the records which were censored from our private synopsis.  We can create a differentially private result, treating all of our censored dimensions as a single `other` dimension.  To query these remaining records, we need metadata that describes the new table, `PUMS_censored`.  Since this has the same schema as `PUMS_large`, we can grab the original schema and make a copy for the new table."
   ]
  },
  {
   "cell_type": "code",
   "execution_count": 14,
   "metadata": {},
   "outputs": [],
   "source": [
    "import copy\n",
    "pc = copy.copy(meta.m_tables['PUMS.PUMS_large'])\n",
    "pc.name = 'PUMS_censored'\n",
    "meta.m_tables['PUMS.PUMS_censored'] = pc"
   ]
  },
  {
   "cell_type": "code",
   "execution_count": 15,
   "metadata": {},
   "outputs": [
    {
     "name": "stdout",
     "output_type": "stream",
     "text": [
      "+-----+------------------+\n",
      "|    n|            income|\n",
      "+-----+------------------+\n",
      "|12481|23849.908486666813|\n",
      "+-----+------------------+\n",
      "\n"
     ]
    }
   ],
   "source": [
    "query_single = 'SELECT COUNT(*) AS n, AVG(income) AS income FROM PUMS_censored'\n",
    "missing_dim = private.execute_typed(query_single).persist()\n",
    "missing_dim.createOrReplaceTempView(\"Censored\")\n",
    "missing_dim.show()\n"
   ]
  },
  {
   "cell_type": "code",
   "execution_count": null,
   "metadata": {},
   "outputs": [],
   "source": []
  },
  {
   "cell_type": "markdown",
   "metadata": {},
   "source": [
    "# Noisy Values for Missing Dimensions\n",
    "\n",
    "Another option is to create a private synopsis for all possible dimension values, where missing values will be set to NULL, which will result in zero counts.  These zero counts will result in zero values.  This approach is not suitable in settings where rare dimensions are private, such as surnames, or when the cross product of all dimensions is very large.  In this case, however, the distinct dimension members are not private, and the cross product is not large."
   ]
  },
  {
   "cell_type": "code",
   "execution_count": 16,
   "metadata": {},
   "outputs": [
    {
     "name": "stdout",
     "output_type": "stream",
     "text": [
      "Including empty dimensions, there are 37376 total dimensions\n"
     ]
    }
   ],
   "source": [
    "alldims = 'SELECT s.*, a.*, e.*, m.*, l.*, b.*, asi.* \\\n",
    "    FROM (SELECT DISTINCT sex FROM PUMS_large) s \\\n",
    "    CROSS JOIN (SELECT DISTINCT age FROM PUMS_large) a \\\n",
    "    CROSS JOIN (SELECT DISTINCT educ FROM PUMS_large) e \\\n",
    "    CROSS JOIN (SELECT DISTINCT married FROM PUMS_large) m \\\n",
    "    CROSS JOIN (SELECT DISTINCT latino FROM PUMS_large) l \\\n",
    "    CROSS JOIN (SELECT DISTINCT black FROM PUMS_large) b \\\n",
    "    CROSS JOIN (SELECT DISTINCT asian FROM PUMS_large) asi'\n",
    "\n",
    "all_dims = reader.execute_typed(alldims)\n",
    "all_dims.persist().createOrReplaceTempView(\"AllDims\")\n",
    "\n",
    "print(\"Including empty dimensions, there are {0} total dimensions\".format(all_dims.count()))"
   ]
  },
  {
   "cell_type": "markdown",
   "metadata": {},
   "source": [
    "Adding the empty dimensions increases our total number of dimensions by about 16,000."
   ]
  },
  {
   "cell_type": "code",
   "execution_count": 17,
   "metadata": {},
   "outputs": [
    {
     "name": "stdout",
     "output_type": "stream",
     "text": [
      "There are 1240489 rows, including empty dimensions\n"
     ]
    }
   ],
   "source": [
    "joined = 'SELECT p.PersonID, p.state, p.puma, d.sex, d.age, d.educ, d.latino, d.black, d.asian, d.married, p.income \\\n",
    "    FROM AllDims d LEFT OUTER JOIN PUMS_large p ON \\\n",
    "        d.sex = p.sex AND \\\n",
    "        d.age = p.age AND \\\n",
    "        d.educ = p.educ AND \\\n",
    "        d.latino = p.latino AND \\\n",
    "        d.black = p.black AND \\\n",
    "        d.asian = p.asian AND \\\n",
    "        d.married = p.married'\n",
    "\n",
    "joined_pums = reader.execute_typed(joined).persist()\n",
    "joined_pums.createOrReplaceTempView(\"PUMS_joined\")\n",
    "print(\"There are {0} rows, including empty dimensions\".format(joined_pums.count()))\n",
    "\n"
   ]
  },
  {
   "cell_type": "code",
   "execution_count": 18,
   "metadata": {},
   "outputs": [],
   "source": [
    "pc = copy.copy(meta.m_tables['PUMS.PUMS_large'])\n",
    "pc.name = 'PUMS_joined'\n",
    "meta.m_tables['PUMS.PUMS_joined'] = pc"
   ]
  },
  {
   "cell_type": "code",
   "execution_count": 19,
   "metadata": {},
   "outputs": [
    {
     "name": "stdout",
     "output_type": "stream",
     "text": [
      "The new private synopsis has 37376 dimensions\n",
      "+-------+-----------------+\n",
      "|  count|       avg_income|\n",
      "+-------+-----------------+\n",
      "|1226120|30866.98536825361|\n",
      "+-------+-----------------+\n",
      "\n"
     ]
    }
   ],
   "source": [
    "private.options.censor_dims = False\n",
    "private.options.clamp_counts = False\n",
    "private.options.row_privacy = True\n",
    "q = 'SELECT sex, age, educ, married, latino, black, asian, COUNT(*) AS n, AVG(income) AS income FROM PUMS_joined GROUP BY sex, age, educ, married, latino, black, asian'\n",
    "\n",
    "priv2 = private.execute_typed(q).persist()\n",
    "priv2.createOrReplaceTempView(\"PrivateSynopsis2\")\n",
    "print(\"The new private synopsis has {0} dimensions\".format(priv2.count()))\n",
    "reader.execute_typed(\"SELECT SUM(n) AS count, SUM(income * n) / SUM(n) AS avg_income FROM PrivateSynopsis2\").show()\n"
   ]
  },
  {
   "cell_type": "code",
   "execution_count": null,
   "metadata": {},
   "outputs": [],
   "source": []
  }
 ],
 "metadata": {
  "kernelspec": {
   "display_name": "Python 3",
   "language": "python",
   "name": "python3"
  },
  "language_info": {
   "codemirror_mode": {
    "name": "ipython",
    "version": 3
   },
   "file_extension": ".py",
   "mimetype": "text/x-python",
   "name": "python",
   "nbconvert_exporter": "python",
   "pygments_lexer": "ipython3",
   "version": "3.7.6"
  }
 },
 "nbformat": 4,
 "nbformat_minor": 4
}
