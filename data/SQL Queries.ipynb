{
 "cells": [
  {
   "cell_type": "markdown",
   "metadata": {},
   "source": [
    "# SQL Queries with Differential Privacy"
   ]
  },
  {
   "cell_type": "markdown",
   "metadata": {},
   "source": [
    "## Read data\n",
    "opendp.smartnoise supports issue SQL queries against CSV files, database engines, and Spark clusters."
   ]
  },
  {
   "cell_type": "code",
   "execution_count": 2,
   "metadata": {
    "scrolled": true
   },
   "outputs": [
    {
     "name": "stdout",
     "output_type": "stream",
     "text": [
      "     age  sex  educ  race   income  married   pid\n",
      "0     59    1     9     1      0.0        1     1\n",
      "1     31    0     1     3  17000.0        0     2\n",
      "2     36    1    11     1      0.0        1     3\n",
      "3     54    1    11     1   9100.0        1     4\n",
      "4     39    0     5     3  37000.0        0     5\n",
      "..   ...  ...   ...   ...      ...      ...   ...\n",
      "995   73    0     3     3  24200.0        0   996\n",
      "996   38    1     2     3      0.0        0   997\n",
      "997   50    0    13     1  22000.0        1   998\n",
      "998   44    1    14     4    500.0        1   999\n",
      "999   29    1    11     1  66400.0        0  1000\n",
      "\n",
      "[1000 rows x 7 columns]\n"
     ]
    }
   ],
   "source": [
    "import pandas as pd\n",
    "\n",
    "pums = pd.read_csv('readers/PUMS.csv')\n",
    "\n",
    "print(pums)"
   ]
  },
  {
   "cell_type": "markdown",
   "metadata": {},
   "source": [
    "## Execute DP query\n",
    "\n",
    "### Initialize PandasReader\n",
    "\n",
    "PandasReader support to run query against Pandas datafram. In addition to the PandasReader, opendp.smartnoise provides built-in SqlServerReader, PostgresReader, SparkReader, and PrestoReader. The Reader interface is extensible, so developers can wrap existing DB-API drivers to provide access to other popular database engines. The Reader implementations do not know anything about differential privacy, and simply return SQL query results.\n",
    "\n",
    "### Initialize PrivateReader\n",
    "The `PrivateReader` exposes the same interface as any other reader, but results will be differentially private. It works by wrapping any SQL data source that returns typed tuples.  In this sample, we wrap a `PandasReader`, which returns SQL queries against Pandas dataframes. "
   ]
  },
  {
   "cell_type": "code",
   "execution_count": 3,
   "metadata": {
    "scrolled": true
   },
   "outputs": [
    {
     "name": "stdout",
     "output_type": "stream",
     "text": [
      " married  |n      \n",
      " ---------|-------\n",
      "  False   | 449   \n",
      "  True    | 558   \n"
     ]
    }
   ],
   "source": [
    "from opendp.smartnoise.sql import PandasReader, PrivateReader\n",
    "from opendp.smartnoise.metadata import CollectionMetadata\n",
    "\n",
    "meta = CollectionMetadata.from_file('readers/PUMS.yaml')\n",
    "query = 'SELECT married, COUNT(pid) AS n FROM PUMS.PUMS GROUP BY married'\n",
    "\n",
    "reader = PandasReader(meta, pums)\n",
    "\n",
    "private_reader = PrivateReader(meta, reader)\n",
    "\n",
    "result_dp = private_reader.execute_typed(query)\n",
    "print(result_dp)"
   ]
  },
  {
   "cell_type": "markdown",
   "metadata": {},
   "source": [
    "**Note**, in the above example, we query the PUMS microdata to get the count of individuals by marriage status.  If you run the private query repeatedly, you will see that the answer changes a bit between queries."
   ]
  },
  {
   "cell_type": "code",
   "execution_count": 4,
   "metadata": {
    "scrolled": false
   },
   "outputs": [
    {
     "name": "stdout",
     "output_type": "stream",
     "text": [
      " married  |n      \n",
      " ---------|-------\n",
      "  False   | 451   \n",
      "  True    | 553   \n"
     ]
    }
   ],
   "source": [
    "result_dp = private_reader.execute_typed(query)\n",
    "print(result_dp)"
   ]
  },
  {
   "cell_type": "markdown",
   "metadata": {},
   "source": [
    "The `PrivateReader` allows you to swap in differentially private results wherever exact results are currently used, it can accept some additional paramaters to control privacy/accuracy tradeoff. "
   ]
  },
  {
   "cell_type": "code",
   "execution_count": 5,
   "metadata": {},
   "outputs": [
    {
     "name": "stdout",
     "output_type": "stream",
     "text": [
      " married  |n      \n",
      " ---------|-------\n",
      "  False   | 448   \n",
      "  True    | 551   \n",
      "\n",
      " married  |n      \n",
      " ---------|-------\n",
      "  False   | 478   \n",
      "  True    | 568   \n"
     ]
    }
   ],
   "source": [
    "private_reader = PrivateReader(meta, reader, 4.0)  # large epsilon, less privacy\n",
    "result = private_reader.execute_typed(query)\n",
    "print(result)\n",
    "print()\n",
    "\n",
    "private_reader = PrivateReader(meta, reader, 0.1)  # smaller epsilon, more privacy\n",
    "result = private_reader.execute_typed(query)\n",
    "print(result)"
   ]
  },
  {
   "cell_type": "markdown",
   "metadata": {},
   "source": [
    "## Execute normal query \n",
    "Calling the underlying `Reader` directly will give the exact result."
   ]
  },
  {
   "cell_type": "code",
   "execution_count": 6,
   "metadata": {},
   "outputs": [
    {
     "name": "stdout",
     "output_type": "stream",
     "text": [
      " married|n      \n",
      " -------|-------\n",
      "  0     | 451   \n",
      "  1     | 549   \n"
     ]
    }
   ],
   "source": [
    "result = reader.execute_typed(query)\n",
    "\n",
    "print(result)"
   ]
  },
  {
   "cell_type": "markdown",
   "metadata": {},
   "source": [
    "## Metadata file\n",
    "\n",
    "The `PrivateReader` needs some metadata that describes the data source.  Differentially private processing needs to know which columns can be used in numeric computations, as well as information about the sensitivity of data, and which column is the private identifier.  Metadata should be provided by the data owner, and should not be data-dependent.  For example, the acceptable range for the `age` column should be domain-specific, and should not use the actual minimum and maximum values from the data:"
   ]
  },
  {
   "cell_type": "code",
   "execution_count": 7,
   "metadata": {},
   "outputs": [
    {
     "name": "stdout",
     "output_type": "stream",
     "text": [
      "PUMS.PUMS [1000 rows]\n",
      "\tage [int] (0,100)\n",
      "\tsex (card: 0)\n",
      "\teduc [int] (unbounded)\n",
      "\trace (card: 0)\n",
      "\tincome [int] (0,500000)\n",
      "\tmarried (boolean)\n",
      "\t*pid [int] (unbounded)\n"
     ]
    }
   ],
   "source": [
    "meta = CollectionMetadata.from_file('readers/PUMS.yaml')\n",
    "print(meta)"
   ]
  }
 ],
 "metadata": {
  "kernelspec": {
   "display_name": "Python (opendpenv)",
   "language": "python",
   "name": "opendpenv"
  },
  "language_info": {
   "codemirror_mode": {
    "name": "ipython",
    "version": 3
   },
   "file_extension": ".py",
   "mimetype": "text/x-python",
   "name": "python",
   "nbconvert_exporter": "python",
   "pygments_lexer": "ipython3",
   "version": "3.6.10"
  }
 },
 "nbformat": 4,
 "nbformat_minor": 2
}
